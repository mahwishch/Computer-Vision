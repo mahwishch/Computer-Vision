{
 "cells": [
  {
   "cell_type": "code",
   "execution_count": 2,
   "id": "f2a083a4",
   "metadata": {},
   "outputs": [],
   "source": [
    "from keras.datasets import cifar10\n",
    "\n",
    "(x_train, y_train), (x_test, y_test) = cifar10.load_data()"
   ]
  },
  {
   "cell_type": "markdown",
   "id": "9201ddbd",
   "metadata": {},
   "source": [
    "# Visulaizing data set"
   ]
  },
  {
   "cell_type": "code",
   "execution_count": 3,
   "id": "85d66859",
   "metadata": {},
   "outputs": [],
   "source": [
    "import matplotlib.pyplot as plt"
   ]
  },
  {
   "cell_type": "code",
   "execution_count": 4,
   "id": "4b6ba894",
   "metadata": {},
   "outputs": [
    {
     "data": {
      "text/plain": [
       "(50000, 32, 32, 3)"
      ]
     },
     "execution_count": 4,
     "metadata": {},
     "output_type": "execute_result"
    }
   ],
   "source": [
    "x_train.shape"
   ]
  },
  {
   "cell_type": "code",
   "execution_count": 5,
   "id": "d035897d",
   "metadata": {},
   "outputs": [
    {
     "data": {
      "text/plain": [
       "(10000, 32, 32, 3)"
      ]
     },
     "execution_count": 5,
     "metadata": {},
     "output_type": "execute_result"
    }
   ],
   "source": [
    "x_test.shape"
   ]
  },
  {
   "cell_type": "code",
   "execution_count": 28,
   "id": "2de7787d",
   "metadata": {},
   "outputs": [],
   "source": [
    "single_img=x_train[5]"
   ]
  },
  {
   "cell_type": "code",
   "execution_count": 7,
   "id": "3966bc6d",
   "metadata": {},
   "outputs": [
    {
     "data": {
      "text/plain": [
       "array([[[164, 215, 244],\n",
       "        [162, 212, 240],\n",
       "        [162, 212, 240],\n",
       "        ...,\n",
       "        [157, 210, 237],\n",
       "        [153, 208, 235],\n",
       "        [153, 203, 234]],\n",
       "\n",
       "       [[168, 218, 245],\n",
       "        [166, 215, 242],\n",
       "        [166, 215, 242],\n",
       "        ...,\n",
       "        [164, 212, 238],\n",
       "        [160, 209, 236],\n",
       "        [158, 205, 235]],\n",
       "\n",
       "       [[172, 220, 246],\n",
       "        [170, 217, 243],\n",
       "        [171, 218, 244],\n",
       "        ...,\n",
       "        [168, 212, 238],\n",
       "        [165, 208, 235],\n",
       "        [163, 207, 236]],\n",
       "\n",
       "       ...,\n",
       "\n",
       "       [[123, 160, 105],\n",
       "        [117, 154, 102],\n",
       "        [112, 149,  99],\n",
       "        ...,\n",
       "        [117, 136, 100],\n",
       "        [ 95, 115,  79],\n",
       "        [120, 149, 100]],\n",
       "\n",
       "       [[120, 156, 100],\n",
       "        [116, 151,  99],\n",
       "        [112, 147,  96],\n",
       "        ...,\n",
       "        [126, 149, 110],\n",
       "        [120, 144, 103],\n",
       "        [120, 152, 101]],\n",
       "\n",
       "       [[121, 154,  96],\n",
       "        [120, 152,  99],\n",
       "        [116, 148,  97],\n",
       "        ...,\n",
       "        [124, 152, 108],\n",
       "        [124, 154, 107],\n",
       "        [120, 154, 100]]], dtype=uint8)"
      ]
     },
     "execution_count": 7,
     "metadata": {},
     "output_type": "execute_result"
    }
   ],
   "source": [
    "single_img"
   ]
  },
  {
   "cell_type": "code",
   "execution_count": 29,
   "id": "b4239d1b",
   "metadata": {},
   "outputs": [
    {
     "name": "stderr",
     "output_type": "stream",
     "text": [
      "Clipping input data to the valid range for imshow with RGB data ([0..1] for floats or [0..255] for integers).\n"
     ]
    },
    {
     "data": {
      "text/plain": [
       "<matplotlib.image.AxesImage at 0x2ac95eaff50>"
      ]
     },
     "execution_count": 29,
     "metadata": {},
     "output_type": "execute_result"
    },
    {
     "data": {
      "image/png": "[encoded data removed]",
      "text/plain": [
       "<Figure size 640x480 with 1 Axes>"
      ]
     },
     "metadata": {},
     "output_type": "display_data"
    }
   ],
   "source": [
    "plt.imshow(single_img,cmap='viridis')"
   ]
  },
  {
   "cell_type": "code",
   "execution_count": 9,
   "id": "bbdcaf49",
   "metadata": {},
   "outputs": [
    {
     "data": {
      "text/plain": [
       "array([[6],\n",
       "       [9],\n",
       "       [9],\n",
       "       ...,\n",
       "       [9],\n",
       "       [1],\n",
       "       [1]], dtype=uint8)"
      ]
     },
     "execution_count": 9,
     "metadata": {},
     "output_type": "execute_result"
    }
   ],
   "source": [
    "y_train"
   ]
  },
  {
   "cell_type": "code",
   "execution_count": 10,
   "id": "883c586e",
   "metadata": {},
   "outputs": [
    {
     "data": {
      "text/plain": [
       "array([[3],\n",
       "       [8],\n",
       "       [8],\n",
       "       ...,\n",
       "       [5],\n",
       "       [1],\n",
       "       [7]], dtype=uint8)"
      ]
     },
     "execution_count": 10,
     "metadata": {},
     "output_type": "execute_result"
    }
   ],
   "source": [
    "y_test"
   ]
  },
  {
   "cell_type": "code",
   "execution_count": 11,
   "id": "76db5ee1",
   "metadata": {},
   "outputs": [],
   "source": [
    "from tensorflow.keras.utils import to_categorical"
   ]
  },
  {
   "cell_type": "code",
   "execution_count": 12,
   "id": "80465f37",
   "metadata": {},
   "outputs": [
    {
     "data": {
      "text/plain": [
       "(50000, 1)"
      ]
     },
     "execution_count": 12,
     "metadata": {},
     "output_type": "execute_result"
    }
   ],
   "source": [
    "y_train.shape"
   ]
  },
  {
   "cell_type": "code",
   "execution_count": 13,
   "id": "610283ad",
   "metadata": {},
   "outputs": [],
   "source": [
    "y_example=to_categorical(y_train)"
   ]
  },
  {
   "cell_type": "code",
   "execution_count": 14,
   "id": "32fd5be4",
   "metadata": {},
   "outputs": [
    {
     "data": {
      "text/plain": [
       "array([0., 0., 0., 0., 0., 0., 0., 0., 1., 0.])"
      ]
     },
     "execution_count": 14,
     "metadata": {},
     "output_type": "execute_result"
    }
   ],
   "source": [
    "y_example[8]"
   ]
  },
  {
   "cell_type": "code",
   "execution_count": 15,
   "id": "e26d18a9",
   "metadata": {},
   "outputs": [
    {
     "data": {
      "text/plain": [
       "(10000, 1)"
      ]
     },
     "execution_count": 15,
     "metadata": {},
     "output_type": "execute_result"
    }
   ],
   "source": [
    "y_test.shape"
   ]
  },
  {
   "cell_type": "code",
   "execution_count": 16,
   "id": "327668a4",
   "metadata": {},
   "outputs": [],
   "source": [
    "y_cat_test=to_categorical(y_test,10)"
   ]
  },
  {
   "cell_type": "code",
   "execution_count": 17,
   "id": "09e1d578",
   "metadata": {},
   "outputs": [],
   "source": [
    "y_cat_train=to_categorical(y_train,10)"
   ]
  },
  {
   "cell_type": "code",
   "execution_count": 18,
   "id": "8002e4ff",
   "metadata": {},
   "outputs": [
    {
     "data": {
      "text/plain": [
       "251"
      ]
     },
     "execution_count": 18,
     "metadata": {},
     "output_type": "execute_result"
    }
   ],
   "source": [
    "single_img.max()"
   ]
  },
  {
   "cell_type": "code",
   "execution_count": 19,
   "id": "5362c813",
   "metadata": {},
   "outputs": [],
   "source": [
    "x_train=x_train/251"
   ]
  },
  {
   "cell_type": "code",
   "execution_count": 20,
   "id": "5097a3d7",
   "metadata": {},
   "outputs": [],
   "source": [
    "x_test=x_test/251"
   ]
  },
  {
   "cell_type": "code",
   "execution_count": 21,
   "id": "d2679d54",
   "metadata": {},
   "outputs": [
    {
     "data": {
      "text/plain": [
       "(50000, 32, 32, 3)"
      ]
     },
     "execution_count": 21,
     "metadata": {},
     "output_type": "execute_result"
    }
   ],
   "source": [
    "x_train.shape"
   ]
  },
  {
   "cell_type": "code",
   "execution_count": 22,
   "id": "d5553b33",
   "metadata": {},
   "outputs": [
    {
     "data": {
      "text/plain": [
       "(10000, 32, 32, 3)"
      ]
     },
     "execution_count": 22,
     "metadata": {},
     "output_type": "execute_result"
    }
   ],
   "source": [
    "x_test.shape"
   ]
  },
  {
   "cell_type": "code",
   "execution_count": 23,
   "id": "60904f8b",
   "metadata": {},
   "outputs": [
    {
     "data": {
      "text/plain": [
       "array([[[[0.62948207, 0.44621514, 0.19521912],\n",
       "         [0.63346614, 0.44223108, 0.187251  ],\n",
       "         [0.65737052, 0.46215139, 0.20318725],\n",
       "         ...,\n",
       "         [0.54581673, 0.37848606, 0.14342629],\n",
       "         [0.50199203, 0.3625498 , 0.14342629],\n",
       "         [0.46215139, 0.33864542, 0.1314741 ]],\n",
       "\n",
       "        [[0.60557769, 0.44621514, 0.20318725],\n",
       "         [0.60159363, 0.43824701, 0.15936255],\n",
       "         [0.63346614, 0.45418327, 0.17928287],\n",
       "         ...,\n",
       "         [0.54183267, 0.37848606, 0.12350598],\n",
       "         [0.49800797, 0.3625498 , 0.12749004],\n",
       "         [0.47410359, 0.35059761, 0.13545817]],\n",
       "\n",
       "        [[0.60159363, 0.43824701, 0.187251  ],\n",
       "         [0.60159363, 0.43426295, 0.1314741 ],\n",
       "         [0.62948207, 0.44223108, 0.14342629],\n",
       "         ...,\n",
       "         [0.55378486, 0.39043825, 0.13545817],\n",
       "         [0.51792829, 0.37848606, 0.13545817],\n",
       "         [0.47808765, 0.35458167, 0.1314741 ]],\n",
       "\n",
       "        ...,\n",
       "\n",
       "        [[0.27091633, 0.4940239 , 0.70517928],\n",
       "         [0.16733068, 0.39840637, 0.58964143],\n",
       "         [0.12350598, 0.35059761, 0.54581673],\n",
       "         ...,\n",
       "         [0.15139442, 0.38645418, 0.58167331],\n",
       "         [0.05179283, 0.25498008, 0.43027888],\n",
       "         [0.15936255, 0.33864542, 0.5059761 ]],\n",
       "\n",
       "        [[0.24302789, 0.46215139, 0.66932271],\n",
       "         [0.19521912, 0.4063745 , 0.58964143],\n",
       "         [0.13944223, 0.33864542, 0.52589641],\n",
       "         ...,\n",
       "         [0.10358566, 0.32669323, 0.51792829],\n",
       "         [0.11553785, 0.32669323, 0.50199203],\n",
       "         [0.07968127, 0.25498008, 0.42629482]],\n",
       "\n",
       "        [[0.21513944, 0.42629482, 0.6374502 ],\n",
       "         [0.22310757, 0.41832669, 0.5936255 ],\n",
       "         [0.17928287, 0.35458167, 0.52589641],\n",
       "         ...,\n",
       "         [0.09561753, 0.30677291, 0.4940239 ],\n",
       "         [0.13545817, 0.33466135, 0.51394422],\n",
       "         [0.08366534, 0.26693227, 0.43824701]]],\n",
       "\n",
       "\n",
       "       [[[0.93625498, 0.93625498, 0.93625498],\n",
       "         [0.92031873, 0.92031873, 0.92031873],\n",
       "         [0.92430279, 0.92430279, 0.92430279],\n",
       "         ...,\n",
       "         [0.92828685, 0.92828685, 0.92828685],\n",
       "         [0.92828685, 0.92828685, 0.92828685],\n",
       "         [0.92430279, 0.92430279, 0.92430279]],\n",
       "\n",
       "        [[0.94820717, 0.94820717, 0.94820717],\n",
       "         [0.93625498, 0.93625498, 0.93625498],\n",
       "         [0.93625498, 0.93625498, 0.93625498],\n",
       "         ...,\n",
       "         [0.94023904, 0.94023904, 0.94023904],\n",
       "         [0.94023904, 0.94023904, 0.94023904],\n",
       "         [0.93625498, 0.93625498, 0.93625498]],\n",
       "\n",
       "        [[0.94422311, 0.94422311, 0.94422311],\n",
       "         [0.93227092, 0.93227092, 0.93227092],\n",
       "         [0.93227092, 0.93227092, 0.93227092],\n",
       "         ...,\n",
       "         [0.93625498, 0.93625498, 0.93625498],\n",
       "         [0.93625498, 0.93625498, 0.93625498],\n",
       "         [0.93227092, 0.93227092, 0.93227092]],\n",
       "\n",
       "        ...,\n",
       "\n",
       "        [[0.34661355, 0.39442231, 0.35458167],\n",
       "         [0.17131474, 0.20318725, 0.14741036],\n",
       "         [0.07569721, 0.09163347, 0.0438247 ],\n",
       "         ...,\n",
       "         [0.67330677, 0.73306773, 0.71314741],\n",
       "         [0.7250996 , 0.78486056, 0.7689243 ],\n",
       "         [0.74900398, 0.80478088, 0.80079681]],\n",
       "\n",
       "        [[0.32669323, 0.38247012, 0.32669323],\n",
       "         [0.18326693, 0.22709163, 0.14342629],\n",
       "         [0.14342629, 0.1752988 , 0.0876494 ],\n",
       "         ...,\n",
       "         [0.69322709, 0.75298805, 0.72908367],\n",
       "         [0.73705179, 0.79681275, 0.78087649],\n",
       "         [0.74501992, 0.80478088, 0.79681275]],\n",
       "\n",
       "        [[0.33864542, 0.40239044, 0.33067729],\n",
       "         [0.24701195, 0.29880478, 0.19123506],\n",
       "         [0.2310757 , 0.26693227, 0.15139442],\n",
       "         ...,\n",
       "         [0.66932271, 0.72908367, 0.70916335],\n",
       "         [0.71713147, 0.77689243, 0.76095618],\n",
       "         [0.74103586, 0.79681275, 0.79282869]]],\n",
       "\n",
       "\n",
       "       [[[0.62948207, 0.75697211, 0.88446215],\n",
       "         [0.62948207, 0.74501992, 0.8685259 ],\n",
       "         [0.55378486, 0.66135458, 0.77290837],\n",
       "         ...,\n",
       "         [0.90836653, 0.92031873, 0.93227092],\n",
       "         [0.94422311, 0.95219124, 0.96812749],\n",
       "         [0.94820717, 0.96015936, 0.98007968]],\n",
       "\n",
       "        [[0.67729084, 0.79681275, 0.9123506 ],\n",
       "         [0.68525896, 0.79282869, 0.90039841],\n",
       "         [0.60159363, 0.70119522, 0.80079681],\n",
       "         ...,\n",
       "         [0.92430279, 0.92430279, 0.94023904],\n",
       "         [0.98007968, 0.98007968, 0.99601594],\n",
       "         [0.98007968, 0.98406375, 1.        ]],\n",
       "\n",
       "        [[0.69322709, 0.80079681, 0.89641434],\n",
       "         [0.70119522, 0.79681275, 0.88446215],\n",
       "         [0.62549801, 0.71314741, 0.79282869],\n",
       "         ...,\n",
       "         [0.91633466, 0.9123506 , 0.92430279],\n",
       "         [0.99601594, 0.99203187, 1.        ],\n",
       "         [0.97609562, 0.97211155, 0.98406375]],\n",
       "\n",
       "        ...,\n",
       "\n",
       "        [[0.12350598, 0.15936255, 0.17928287],\n",
       "         [0.11952191, 0.15537849, 0.1752988 ],\n",
       "         [0.10358566, 0.13944223, 0.15936255],\n",
       "         ...,\n",
       "         [0.14741036, 0.15936255, 0.18326693],\n",
       "         [0.03585657, 0.05179283, 0.05577689],\n",
       "         [0.01593625, 0.02788845, 0.01992032]],\n",
       "\n",
       "        [[0.09163347, 0.13545817, 0.15537849],\n",
       "         [0.10756972, 0.15139442, 0.17131474],\n",
       "         [0.09960159, 0.14342629, 0.16334661],\n",
       "         ...,\n",
       "         [0.07569721, 0.07968127, 0.09561753],\n",
       "         [0.01593625, 0.02390438, 0.01195219],\n",
       "         [0.01992032, 0.02788845, 0.01195219]],\n",
       "\n",
       "        [[0.11155378, 0.16334661, 0.187251  ],\n",
       "         [0.11952191, 0.17131474, 0.19920319],\n",
       "         [0.12749004, 0.17928287, 0.20717131],\n",
       "         ...,\n",
       "         [0.01992032, 0.02390438, 0.03187251],\n",
       "         [0.01593625, 0.01992032, 0.01195219],\n",
       "         [0.02788845, 0.03187251, 0.02788845]]],\n",
       "\n",
       "\n",
       "       ...,\n",
       "\n",
       "\n",
       "       [[[0.07968127, 0.05976096, 0.04780876],\n",
       "         [0.07569721, 0.05577689, 0.0438247 ],\n",
       "         [0.05976096, 0.05577689, 0.0438247 ],\n",
       "         ...,\n",
       "         [0.03984064, 0.03585657, 0.02788845],\n",
       "         [0.04780876, 0.0438247 , 0.03585657],\n",
       "         [0.05179283, 0.04780876, 0.03984064]],\n",
       "\n",
       "        [[0.08366534, 0.06374502, 0.05179283],\n",
       "         [0.07968127, 0.06374502, 0.05179283],\n",
       "         [0.07171315, 0.06772908, 0.04780876],\n",
       "         ...,\n",
       "         [0.03984064, 0.03585657, 0.02788845],\n",
       "         [0.03984064, 0.03585657, 0.02788845],\n",
       "         [0.04780876, 0.0438247 , 0.03585657]],\n",
       "\n",
       "        [[0.08366534, 0.06374502, 0.05179283],\n",
       "         [0.08366534, 0.06772908, 0.04780876],\n",
       "         [0.07968127, 0.07171315, 0.0438247 ],\n",
       "         ...,\n",
       "         [0.04780876, 0.0438247 , 0.03585657],\n",
       "         [0.04780876, 0.0438247 , 0.03585657],\n",
       "         [0.05179283, 0.04780876, 0.03984064]],\n",
       "\n",
       "        ...,\n",
       "\n",
       "        [[0.1314741 , 0.09960159, 0.05179283],\n",
       "         [0.13545817, 0.10358566, 0.05976096],\n",
       "         [0.13545817, 0.10358566, 0.05976096],\n",
       "         ...,\n",
       "         [0.11155378, 0.09960159, 0.20717131],\n",
       "         [0.11553785, 0.09960159, 0.2310757 ],\n",
       "         [0.09163347, 0.07968127, 0.16733068]],\n",
       "\n",
       "        [[0.1314741 , 0.09960159, 0.05577689],\n",
       "         [0.13545817, 0.10358566, 0.05976096],\n",
       "         [0.13545817, 0.10358566, 0.05976096],\n",
       "         ...,\n",
       "         [0.10756972, 0.09561753, 0.20717131],\n",
       "         [0.10756972, 0.09561753, 0.22310757],\n",
       "         [0.09960159, 0.0876494 , 0.187251  ]],\n",
       "\n",
       "        [[0.12350598, 0.09163347, 0.04780876],\n",
       "         [0.12749004, 0.09561753, 0.05179283],\n",
       "         [0.1314741 , 0.09960159, 0.05577689],\n",
       "         ...,\n",
       "         [0.09561753, 0.09163347, 0.19920319],\n",
       "         [0.10358566, 0.09163347, 0.21115538],\n",
       "         [0.09960159, 0.07968127, 0.187251  ]]],\n",
       "\n",
       "\n",
       "       [[[0.09960159, 0.15936255, 0.04780876],\n",
       "         [0.05976096, 0.14342629, 0.01195219],\n",
       "         [0.09163347, 0.16334661, 0.07171315],\n",
       "         ...,\n",
       "         [0.24302789, 0.32669323, 0.31075697],\n",
       "         [0.36653386, 0.4501992 , 0.44621514],\n",
       "         [0.29880478, 0.35458167, 0.36653386]],\n",
       "\n",
       "        [[0.04780876, 0.09960159, 0.02390438],\n",
       "         [0.07968127, 0.14741036, 0.02788845],\n",
       "         [0.09561753, 0.14342629, 0.05976096],\n",
       "         ...,\n",
       "         [0.45816733, 0.53386454, 0.5498008 ],\n",
       "         [0.5936255 , 0.66932271, 0.70517928],\n",
       "         [0.41434263, 0.46613546, 0.52191235]],\n",
       "\n",
       "        [[0.04780876, 0.09960159, 0.0438247 ],\n",
       "         [0.05976096, 0.11553785, 0.02390438],\n",
       "         [0.13545817, 0.15936255, 0.09561753],\n",
       "         ...,\n",
       "         [0.61354582, 0.68525896, 0.7250996 ],\n",
       "         [0.62549801, 0.69721116, 0.76494024],\n",
       "         [0.46215139, 0.51394422, 0.60159363]],\n",
       "\n",
       "        ...,\n",
       "\n",
       "        [[0.39840637, 0.51394422, 0.32270916],\n",
       "         [0.41035857, 0.52589641, 0.33466135],\n",
       "         [0.41434263, 0.53386454, 0.34262948],\n",
       "         ...,\n",
       "         [0.38645418, 0.50996016, 0.33466135],\n",
       "         [0.39043825, 0.50199203, 0.33466135],\n",
       "         [0.3625498 , 0.48207171, 0.31474104]],\n",
       "\n",
       "        [[0.41035857, 0.52589641, 0.33067729],\n",
       "         [0.41434263, 0.52191235, 0.33067729],\n",
       "         [0.42629482, 0.53784861, 0.34661355],\n",
       "         ...,\n",
       "         [0.40239044, 0.52589641, 0.34661355],\n",
       "         [0.39442231, 0.5059761 , 0.33466135],\n",
       "         [0.36653386, 0.48207171, 0.31474104]],\n",
       "\n",
       "        [[0.37848606, 0.50199203, 0.31075697],\n",
       "         [0.37848606, 0.49003984, 0.30278884],\n",
       "         [0.40239044, 0.50996016, 0.32270916],\n",
       "         ...,\n",
       "         [0.37051793, 0.4940239 , 0.3187251 ],\n",
       "         [0.37848606, 0.49003984, 0.32270916],\n",
       "         [0.36653386, 0.47808765, 0.3187251 ]]],\n",
       "\n",
       "\n",
       "       [[[0.29083665, 0.31075697, 0.29880478],\n",
       "         [0.39043825, 0.41035857, 0.4501992 ],\n",
       "         [0.39442231, 0.42231076, 0.45418327],\n",
       "         ...,\n",
       "         [0.53784861, 0.59760956, 0.60557769],\n",
       "         [0.53784861, 0.5936255 , 0.61354582],\n",
       "         [0.80876494, 0.85657371, 0.88844622]],\n",
       "\n",
       "        [[0.2749004 , 0.29083665, 0.27888446],\n",
       "         [0.33466135, 0.35458167, 0.38645418],\n",
       "         [0.27091633, 0.29880478, 0.32270916],\n",
       "         ...,\n",
       "         [0.33864542, 0.37848606, 0.35458167],\n",
       "         [0.28286853, 0.32669323, 0.3187251 ],\n",
       "         [0.47808765, 0.52988048, 0.53784861]],\n",
       "\n",
       "        [[0.2749004 , 0.29083665, 0.27888446],\n",
       "         [0.35856574, 0.37848606, 0.39840637],\n",
       "         [0.24701195, 0.28286853, 0.29482072],\n",
       "         ...,\n",
       "         [0.29482072, 0.32270916, 0.27888446],\n",
       "         [0.21115538, 0.24701195, 0.21513944],\n",
       "         [0.24701195, 0.29482072, 0.2749004 ]],\n",
       "\n",
       "        ...,\n",
       "\n",
       "        [[0.49003984, 0.50996016, 0.38247012],\n",
       "         [0.52589641, 0.52589641, 0.4063745 ],\n",
       "         [0.51394422, 0.50996016, 0.39840637],\n",
       "         ...,\n",
       "         [0.43027888, 0.42629482, 0.35059761],\n",
       "         [0.24701195, 0.23904382, 0.21912351],\n",
       "         [0.10756972, 0.10756972, 0.11155378]],\n",
       "\n",
       "        [[0.45816733, 0.48207171, 0.3625498 ],\n",
       "         [0.49003984, 0.4940239 , 0.37848606],\n",
       "         [0.51394422, 0.50199203, 0.39442231],\n",
       "         ...,\n",
       "         [0.45816733, 0.46215139, 0.37450199],\n",
       "         [0.26294821, 0.25896414, 0.23505976],\n",
       "         [0.10756972, 0.10756972, 0.10756972]],\n",
       "\n",
       "        [[0.46215139, 0.47808765, 0.35856574],\n",
       "         [0.48207171, 0.48605578, 0.37450199],\n",
       "         [0.51394422, 0.50996016, 0.40239044],\n",
       "         ...,\n",
       "         [0.46215139, 0.45816733, 0.37450199],\n",
       "         [0.27091633, 0.25896414, 0.2310757 ],\n",
       "         [0.10756972, 0.10358566, 0.10358566]]]])"
      ]
     },
     "execution_count": 23,
     "metadata": {},
     "output_type": "execute_result"
    }
   ],
   "source": [
    "x_test"
   ]
  },
  {
   "cell_type": "code",
   "execution_count": 24,
   "id": "64c3d393",
   "metadata": {},
   "outputs": [],
   "source": [
    "import numpy as np\n",
    "import tensorflow as tf\n",
    "from tensorflow.keras.datasets import cifar10 \n",
    "from tensorflow.keras.models import Sequential\n",
    "from tensorflow.keras.layers import Conv2D, MaxPooling2D, Flatten, Dense,BatchNormalization, Dropout\n",
    "from tensorflow.keras.utils import to_categorical"
   ]
  },
  {
   "cell_type": "code",
   "execution_count": 25,
   "id": "46974439",
   "metadata": {},
   "outputs": [
    {
     "name": "stderr",
     "output_type": "stream",
     "text": [
      "C:\\Users\\mahwi\\AppData\\Roaming\\Python\\Python311\\site-packages\\keras\\src\\layers\\convolutional\\base_conv.py:107: UserWarning: Do not pass an `input_shape`/`input_dim` argument to a layer. When using Sequential models, prefer using an `Input(shape)` object as the first layer in the model instead.\n",
      "  super().__init__(activity_regularizer=activity_regularizer, **kwargs)\n"
     ]
    },
    {
     "data": {
      "text/html": [
       "<pre style=\"white-space:pre;overflow-x:auto;line-height:normal;font-family:Menlo,'DejaVu Sans Mono',consolas,'Courier New',monospace\"><span style=\"font-weight: bold\">Model: \"sequential\"</span>\n",
       "</pre>\n"
      ],
      "text/plain": [
       "\u001b[1mModel: \"sequential\"\u001b[0m\n"
      ]
     },
     "metadata": {},
     "output_type": "display_data"
    },
    {
     "data": {
      "text/html": [
       "<pre style=\"white-space:pre;overflow-x:auto;line-height:normal;font-family:Menlo,'DejaVu Sans Mono',consolas,'Courier New',monospace\">┏━━━━━━━━━━━━━━━━━━━━━━━━━━━━━━━━━━━━━━┳━━━━━━━━━━━━━━━━━━━━━━━━━━━━━┳━━━━━━━━━━━━━━━━━┓\n",
       "┃<span style=\"font-weight: bold\"> Layer (type)                         </span>┃<span style=\"font-weight: bold\"> Output Shape                </span>┃<span style=\"font-weight: bold\">         Param # </span>┃\n",
       "┡━━━━━━━━━━━━━━━━━━━━━━━━━━━━━━━━━━━━━━╇━━━━━━━━━━━━━━━━━━━━━━━━━━━━━╇━━━━━━━━━━━━━━━━━┩\n",
       "│ conv2d (<span style=\"color: #0087ff; text-decoration-color: #0087ff\">Conv2D</span>)                      │ (<span style=\"color: #00d7ff; text-decoration-color: #00d7ff\">None</span>, <span style=\"color: #00af00; text-decoration-color: #00af00\">32</span>, <span style=\"color: #00af00; text-decoration-color: #00af00\">32</span>, <span style=\"color: #00af00; text-decoration-color: #00af00\">32</span>)          │             <span style=\"color: #00af00; text-decoration-color: #00af00\">896</span> │\n",
       "├──────────────────────────────────────┼─────────────────────────────┼─────────────────┤\n",
       "│ batch_normalization                  │ (<span style=\"color: #00d7ff; text-decoration-color: #00d7ff\">None</span>, <span style=\"color: #00af00; text-decoration-color: #00af00\">32</span>, <span style=\"color: #00af00; text-decoration-color: #00af00\">32</span>, <span style=\"color: #00af00; text-decoration-color: #00af00\">32</span>)          │             <span style=\"color: #00af00; text-decoration-color: #00af00\">128</span> │\n",
       "│ (<span style=\"color: #0087ff; text-decoration-color: #0087ff\">BatchNormalization</span>)                 │                             │                 │\n",
       "├──────────────────────────────────────┼─────────────────────────────┼─────────────────┤\n",
       "│ max_pooling2d (<span style=\"color: #0087ff; text-decoration-color: #0087ff\">MaxPooling2D</span>)         │ (<span style=\"color: #00d7ff; text-decoration-color: #00d7ff\">None</span>, <span style=\"color: #00af00; text-decoration-color: #00af00\">16</span>, <span style=\"color: #00af00; text-decoration-color: #00af00\">16</span>, <span style=\"color: #00af00; text-decoration-color: #00af00\">32</span>)          │               <span style=\"color: #00af00; text-decoration-color: #00af00\">0</span> │\n",
       "├──────────────────────────────────────┼─────────────────────────────┼─────────────────┤\n",
       "│ conv2d_1 (<span style=\"color: #0087ff; text-decoration-color: #0087ff\">Conv2D</span>)                    │ (<span style=\"color: #00d7ff; text-decoration-color: #00d7ff\">None</span>, <span style=\"color: #00af00; text-decoration-color: #00af00\">16</span>, <span style=\"color: #00af00; text-decoration-color: #00af00\">16</span>, <span style=\"color: #00af00; text-decoration-color: #00af00\">64</span>)          │          <span style=\"color: #00af00; text-decoration-color: #00af00\">18,496</span> │\n",
       "├──────────────────────────────────────┼─────────────────────────────┼─────────────────┤\n",
       "│ batch_normalization_1                │ (<span style=\"color: #00d7ff; text-decoration-color: #00d7ff\">None</span>, <span style=\"color: #00af00; text-decoration-color: #00af00\">16</span>, <span style=\"color: #00af00; text-decoration-color: #00af00\">16</span>, <span style=\"color: #00af00; text-decoration-color: #00af00\">64</span>)          │             <span style=\"color: #00af00; text-decoration-color: #00af00\">256</span> │\n",
       "│ (<span style=\"color: #0087ff; text-decoration-color: #0087ff\">BatchNormalization</span>)                 │                             │                 │\n",
       "├──────────────────────────────────────┼─────────────────────────────┼─────────────────┤\n",
       "│ max_pooling2d_1 (<span style=\"color: #0087ff; text-decoration-color: #0087ff\">MaxPooling2D</span>)       │ (<span style=\"color: #00d7ff; text-decoration-color: #00d7ff\">None</span>, <span style=\"color: #00af00; text-decoration-color: #00af00\">8</span>, <span style=\"color: #00af00; text-decoration-color: #00af00\">8</span>, <span style=\"color: #00af00; text-decoration-color: #00af00\">64</span>)            │               <span style=\"color: #00af00; text-decoration-color: #00af00\">0</span> │\n",
       "├──────────────────────────────────────┼─────────────────────────────┼─────────────────┤\n",
       "│ conv2d_2 (<span style=\"color: #0087ff; text-decoration-color: #0087ff\">Conv2D</span>)                    │ (<span style=\"color: #00d7ff; text-decoration-color: #00d7ff\">None</span>, <span style=\"color: #00af00; text-decoration-color: #00af00\">8</span>, <span style=\"color: #00af00; text-decoration-color: #00af00\">8</span>, <span style=\"color: #00af00; text-decoration-color: #00af00\">128</span>)           │          <span style=\"color: #00af00; text-decoration-color: #00af00\">73,856</span> │\n",
       "├──────────────────────────────────────┼─────────────────────────────┼─────────────────┤\n",
       "│ batch_normalization_2                │ (<span style=\"color: #00d7ff; text-decoration-color: #00d7ff\">None</span>, <span style=\"color: #00af00; text-decoration-color: #00af00\">8</span>, <span style=\"color: #00af00; text-decoration-color: #00af00\">8</span>, <span style=\"color: #00af00; text-decoration-color: #00af00\">128</span>)           │             <span style=\"color: #00af00; text-decoration-color: #00af00\">512</span> │\n",
       "│ (<span style=\"color: #0087ff; text-decoration-color: #0087ff\">BatchNormalization</span>)                 │                             │                 │\n",
       "├──────────────────────────────────────┼─────────────────────────────┼─────────────────┤\n",
       "│ max_pooling2d_2 (<span style=\"color: #0087ff; text-decoration-color: #0087ff\">MaxPooling2D</span>)       │ (<span style=\"color: #00d7ff; text-decoration-color: #00d7ff\">None</span>, <span style=\"color: #00af00; text-decoration-color: #00af00\">4</span>, <span style=\"color: #00af00; text-decoration-color: #00af00\">4</span>, <span style=\"color: #00af00; text-decoration-color: #00af00\">128</span>)           │               <span style=\"color: #00af00; text-decoration-color: #00af00\">0</span> │\n",
       "├──────────────────────────────────────┼─────────────────────────────┼─────────────────┤\n",
       "│ conv2d_3 (<span style=\"color: #0087ff; text-decoration-color: #0087ff\">Conv2D</span>)                    │ (<span style=\"color: #00d7ff; text-decoration-color: #00d7ff\">None</span>, <span style=\"color: #00af00; text-decoration-color: #00af00\">4</span>, <span style=\"color: #00af00; text-decoration-color: #00af00\">4</span>, <span style=\"color: #00af00; text-decoration-color: #00af00\">256</span>)           │         <span style=\"color: #00af00; text-decoration-color: #00af00\">295,168</span> │\n",
       "├──────────────────────────────────────┼─────────────────────────────┼─────────────────┤\n",
       "│ batch_normalization_3                │ (<span style=\"color: #00d7ff; text-decoration-color: #00d7ff\">None</span>, <span style=\"color: #00af00; text-decoration-color: #00af00\">4</span>, <span style=\"color: #00af00; text-decoration-color: #00af00\">4</span>, <span style=\"color: #00af00; text-decoration-color: #00af00\">256</span>)           │           <span style=\"color: #00af00; text-decoration-color: #00af00\">1,024</span> │\n",
       "│ (<span style=\"color: #0087ff; text-decoration-color: #0087ff\">BatchNormalization</span>)                 │                             │                 │\n",
       "├──────────────────────────────────────┼─────────────────────────────┼─────────────────┤\n",
       "│ max_pooling2d_3 (<span style=\"color: #0087ff; text-decoration-color: #0087ff\">MaxPooling2D</span>)       │ (<span style=\"color: #00d7ff; text-decoration-color: #00d7ff\">None</span>, <span style=\"color: #00af00; text-decoration-color: #00af00\">2</span>, <span style=\"color: #00af00; text-decoration-color: #00af00\">2</span>, <span style=\"color: #00af00; text-decoration-color: #00af00\">256</span>)           │               <span style=\"color: #00af00; text-decoration-color: #00af00\">0</span> │\n",
       "├──────────────────────────────────────┼─────────────────────────────┼─────────────────┤\n",
       "│ flatten (<span style=\"color: #0087ff; text-decoration-color: #0087ff\">Flatten</span>)                    │ (<span style=\"color: #00d7ff; text-decoration-color: #00d7ff\">None</span>, <span style=\"color: #00af00; text-decoration-color: #00af00\">1024</span>)                │               <span style=\"color: #00af00; text-decoration-color: #00af00\">0</span> │\n",
       "├──────────────────────────────────────┼─────────────────────────────┼─────────────────┤\n",
       "│ dense (<span style=\"color: #0087ff; text-decoration-color: #0087ff\">Dense</span>)                        │ (<span style=\"color: #00d7ff; text-decoration-color: #00d7ff\">None</span>, <span style=\"color: #00af00; text-decoration-color: #00af00\">512</span>)                 │         <span style=\"color: #00af00; text-decoration-color: #00af00\">524,800</span> │\n",
       "├──────────────────────────────────────┼─────────────────────────────┼─────────────────┤\n",
       "│ dropout (<span style=\"color: #0087ff; text-decoration-color: #0087ff\">Dropout</span>)                    │ (<span style=\"color: #00d7ff; text-decoration-color: #00d7ff\">None</span>, <span style=\"color: #00af00; text-decoration-color: #00af00\">512</span>)                 │               <span style=\"color: #00af00; text-decoration-color: #00af00\">0</span> │\n",
       "├──────────────────────────────────────┼─────────────────────────────┼─────────────────┤\n",
       "│ dense_1 (<span style=\"color: #0087ff; text-decoration-color: #0087ff\">Dense</span>)                      │ (<span style=\"color: #00d7ff; text-decoration-color: #00d7ff\">None</span>, <span style=\"color: #00af00; text-decoration-color: #00af00\">10</span>)                  │           <span style=\"color: #00af00; text-decoration-color: #00af00\">5,130</span> │\n",
       "└──────────────────────────────────────┴─────────────────────────────┴─────────────────┘\n",
       "</pre>\n"
      ],
      "text/plain": [
       "┏━━━━━━━━━━━━━━━━━━━━━━━━━━━━━━━━━━━━━━┳━━━━━━━━━━━━━━━━━━━━━━━━━━━━━┳━━━━━━━━━━━━━━━━━┓\n",
       "┃\u001b[1m \u001b[0m\u001b[1mLayer (type)                        \u001b[0m\u001b[1m \u001b[0m┃\u001b[1m \u001b[0m\u001b[1mOutput Shape               \u001b[0m\u001b[1m \u001b[0m┃\u001b[1m \u001b[0m\u001b[1m        Param #\u001b[0m\u001b[1m \u001b[0m┃\n",
       "┡━━━━━━━━━━━━━━━━━━━━━━━━━━━━━━━━━━━━━━╇━━━━━━━━━━━━━━━━━━━━━━━━━━━━━╇━━━━━━━━━━━━━━━━━┩\n",
       "│ conv2d (\u001b[38;5;33mConv2D\u001b[0m)                      │ (\u001b[38;5;45mNone\u001b[0m, \u001b[38;5;34m32\u001b[0m, \u001b[38;5;34m32\u001b[0m, \u001b[38;5;34m32\u001b[0m)          │             \u001b[38;5;34m896\u001b[0m │\n",
       "├──────────────────────────────────────┼─────────────────────────────┼─────────────────┤\n",
       "│ batch_normalization                  │ (\u001b[38;5;45mNone\u001b[0m, \u001b[38;5;34m32\u001b[0m, \u001b[38;5;34m32\u001b[0m, \u001b[38;5;34m32\u001b[0m)          │             \u001b[38;5;34m128\u001b[0m │\n",
       "│ (\u001b[38;5;33mBatchNormalization\u001b[0m)                 │                             │                 │\n",
       "├──────────────────────────────────────┼─────────────────────────────┼─────────────────┤\n",
       "│ max_pooling2d (\u001b[38;5;33mMaxPooling2D\u001b[0m)         │ (\u001b[38;5;45mNone\u001b[0m, \u001b[38;5;34m16\u001b[0m, \u001b[38;5;34m16\u001b[0m, \u001b[38;5;34m32\u001b[0m)          │               \u001b[38;5;34m0\u001b[0m │\n",
       "├──────────────────────────────────────┼─────────────────────────────┼─────────────────┤\n",
       "│ conv2d_1 (\u001b[38;5;33mConv2D\u001b[0m)                    │ (\u001b[38;5;45mNone\u001b[0m, \u001b[38;5;34m16\u001b[0m, \u001b[38;5;34m16\u001b[0m, \u001b[38;5;34m64\u001b[0m)          │          \u001b[38;5;34m18,496\u001b[0m │\n",
       "├──────────────────────────────────────┼─────────────────────────────┼─────────────────┤\n",
       "│ batch_normalization_1                │ (\u001b[38;5;45mNone\u001b[0m, \u001b[38;5;34m16\u001b[0m, \u001b[38;5;34m16\u001b[0m, \u001b[38;5;34m64\u001b[0m)          │             \u001b[38;5;34m256\u001b[0m │\n",
       "│ (\u001b[38;5;33mBatchNormalization\u001b[0m)                 │                             │                 │\n",
       "├──────────────────────────────────────┼─────────────────────────────┼─────────────────┤\n",
       "│ max_pooling2d_1 (\u001b[38;5;33mMaxPooling2D\u001b[0m)       │ (\u001b[38;5;45mNone\u001b[0m, \u001b[38;5;34m8\u001b[0m, \u001b[38;5;34m8\u001b[0m, \u001b[38;5;34m64\u001b[0m)            │               \u001b[38;5;34m0\u001b[0m │\n",
       "├──────────────────────────────────────┼─────────────────────────────┼─────────────────┤\n",
       "│ conv2d_2 (\u001b[38;5;33mConv2D\u001b[0m)                    │ (\u001b[38;5;45mNone\u001b[0m, \u001b[38;5;34m8\u001b[0m, \u001b[38;5;34m8\u001b[0m, \u001b[38;5;34m128\u001b[0m)           │          \u001b[38;5;34m73,856\u001b[0m │\n",
       "├──────────────────────────────────────┼─────────────────────────────┼─────────────────┤\n",
       "│ batch_normalization_2                │ (\u001b[38;5;45mNone\u001b[0m, \u001b[38;5;34m8\u001b[0m, \u001b[38;5;34m8\u001b[0m, \u001b[38;5;34m128\u001b[0m)           │             \u001b[38;5;34m512\u001b[0m │\n",
       "│ (\u001b[38;5;33mBatchNormalization\u001b[0m)                 │                             │                 │\n",
       "├──────────────────────────────────────┼─────────────────────────────┼─────────────────┤\n",
       "│ max_pooling2d_2 (\u001b[38;5;33mMaxPooling2D\u001b[0m)       │ (\u001b[38;5;45mNone\u001b[0m, \u001b[38;5;34m4\u001b[0m, \u001b[38;5;34m4\u001b[0m, \u001b[38;5;34m128\u001b[0m)           │               \u001b[38;5;34m0\u001b[0m │\n",
       "├──────────────────────────────────────┼─────────────────────────────┼─────────────────┤\n",
       "│ conv2d_3 (\u001b[38;5;33mConv2D\u001b[0m)                    │ (\u001b[38;5;45mNone\u001b[0m, \u001b[38;5;34m4\u001b[0m, \u001b[38;5;34m4\u001b[0m, \u001b[38;5;34m256\u001b[0m)           │         \u001b[38;5;34m295,168\u001b[0m │\n",
       "├──────────────────────────────────────┼─────────────────────────────┼─────────────────┤\n",
       "│ batch_normalization_3                │ (\u001b[38;5;45mNone\u001b[0m, \u001b[38;5;34m4\u001b[0m, \u001b[38;5;34m4\u001b[0m, \u001b[38;5;34m256\u001b[0m)           │           \u001b[38;5;34m1,024\u001b[0m │\n",
       "│ (\u001b[38;5;33mBatchNormalization\u001b[0m)                 │                             │                 │\n",
       "├──────────────────────────────────────┼─────────────────────────────┼─────────────────┤\n",
       "│ max_pooling2d_3 (\u001b[38;5;33mMaxPooling2D\u001b[0m)       │ (\u001b[38;5;45mNone\u001b[0m, \u001b[38;5;34m2\u001b[0m, \u001b[38;5;34m2\u001b[0m, \u001b[38;5;34m256\u001b[0m)           │               \u001b[38;5;34m0\u001b[0m │\n",
       "├──────────────────────────────────────┼─────────────────────────────┼─────────────────┤\n",
       "│ flatten (\u001b[38;5;33mFlatten\u001b[0m)                    │ (\u001b[38;5;45mNone\u001b[0m, \u001b[38;5;34m1024\u001b[0m)                │               \u001b[38;5;34m0\u001b[0m │\n",
       "├──────────────────────────────────────┼─────────────────────────────┼─────────────────┤\n",
       "│ dense (\u001b[38;5;33mDense\u001b[0m)                        │ (\u001b[38;5;45mNone\u001b[0m, \u001b[38;5;34m512\u001b[0m)                 │         \u001b[38;5;34m524,800\u001b[0m │\n",
       "├──────────────────────────────────────┼─────────────────────────────┼─────────────────┤\n",
       "│ dropout (\u001b[38;5;33mDropout\u001b[0m)                    │ (\u001b[38;5;45mNone\u001b[0m, \u001b[38;5;34m512\u001b[0m)                 │               \u001b[38;5;34m0\u001b[0m │\n",
       "├──────────────────────────────────────┼─────────────────────────────┼─────────────────┤\n",
       "│ dense_1 (\u001b[38;5;33mDense\u001b[0m)                      │ (\u001b[38;5;45mNone\u001b[0m, \u001b[38;5;34m10\u001b[0m)                  │           \u001b[38;5;34m5,130\u001b[0m │\n",
       "└──────────────────────────────────────┴─────────────────────────────┴─────────────────┘\n"
      ]
     },
     "metadata": {},
     "output_type": "display_data"
    },
    {
     "data": {
      "text/html": [
       "<pre style=\"white-space:pre;overflow-x:auto;line-height:normal;font-family:Menlo,'DejaVu Sans Mono',consolas,'Courier New',monospace\"><span style=\"font-weight: bold\"> Total params: </span><span style=\"color: #00af00; text-decoration-color: #00af00\">920,266</span> (3.51 MB)\n",
       "</pre>\n"
      ],
      "text/plain": [
       "\u001b[1m Total params: \u001b[0m\u001b[38;5;34m920,266\u001b[0m (3.51 MB)\n"
      ]
     },
     "metadata": {},
     "output_type": "display_data"
    },
    {
     "data": {
      "text/html": [
       "<pre style=\"white-space:pre;overflow-x:auto;line-height:normal;font-family:Menlo,'DejaVu Sans Mono',consolas,'Courier New',monospace\"><span style=\"font-weight: bold\"> Trainable params: </span><span style=\"color: #00af00; text-decoration-color: #00af00\">919,306</span> (3.51 MB)\n",
       "</pre>\n"
      ],
      "text/plain": [
       "\u001b[1m Trainable params: \u001b[0m\u001b[38;5;34m919,306\u001b[0m (3.51 MB)\n"
      ]
     },
     "metadata": {},
     "output_type": "display_data"
    },
    {
     "data": {
      "text/html": [
       "<pre style=\"white-space:pre;overflow-x:auto;line-height:normal;font-family:Menlo,'DejaVu Sans Mono',consolas,'Courier New',monospace\"><span style=\"font-weight: bold\"> Non-trainable params: </span><span style=\"color: #00af00; text-decoration-color: #00af00\">960</span> (3.75 KB)\n",
       "</pre>\n"
      ],
      "text/plain": [
       "\u001b[1m Non-trainable params: \u001b[0m\u001b[38;5;34m960\u001b[0m (3.75 KB)\n"
      ]
     },
     "metadata": {},
     "output_type": "display_data"
    }
   ],
   "source": [
    "model = Sequential([\n",
    "    # Convolutional Layer 1\n",
    "    Conv2D(32, (3, 3), activation='relu', padding='same', input_shape=(32, 32, 3)),\n",
    "    BatchNormalization(),\n",
    "    MaxPooling2D((2, 2)),\n",
    "    \n",
    "    # Convolutional Layer 2\n",
    "    Conv2D(64, (3, 3), activation='relu', padding='same'),\n",
    "    BatchNormalization(),\n",
    "    MaxPooling2D((2, 2)),\n",
    "    \n",
    "    # Convolutional Layer 3\n",
    "    Conv2D(128, (3, 3), activation='relu', padding='same'),\n",
    "    BatchNormalization(),\n",
    "    MaxPooling2D((2, 2)),\n",
    "    \n",
    "    # Convolutional Layer 4\n",
    "    Conv2D(256, (3, 3), activation='relu', padding='same'),\n",
    "    BatchNormalization(),\n",
    "    MaxPooling2D((2, 2)),\n",
    "    \n",
    "    # Flatten the output\n",
    "    Flatten(),\n",
    "    \n",
    "    # Fully Connected Layer\n",
    "    Dense(512, activation='relu'),\n",
    "    Dropout(0.5),\n",
    "    \n",
    "    # Output Layer\n",
    "    Dense(10, activation='softmax')  # For CIFAR-10\n",
    "])\n",
    "\n",
    "# Display the model summary\n",
    "model.summary()"
   ]
  },
  {
   "cell_type": "code",
   "execution_count": 26,
   "id": "78b30967",
   "metadata": {},
   "outputs": [],
   "source": [
    "model.compile(optimizer='adam',\n",
    "              loss='categorical_crossentropy',\n",
    "              metrics=['accuracy'])\n"
   ]
  },
  {
   "cell_type": "markdown",
   "id": "5aeacf7c",
   "metadata": {},
   "source": [
    "# Train the Model\""
   ]
  },
  {
   "cell_type": "code",
   "execution_count": 27,
   "id": "1b90a3fb",
   "metadata": {
    "scrolled": false
   },
   "outputs": [
    {
     "name": "stdout",
     "output_type": "stream",
     "text": [
      "Epoch 1/15\n",
      "\u001b[1m1563/1563\u001b[0m \u001b[32m━━━━━━━━━━━━━━━━━━━━\u001b[0m\u001b[37m\u001b[0m \u001b[1m235s\u001b[0m 119ms/step - accuracy: 0.4071 - loss: 1.7647\n",
      "Epoch 2/15\n",
      "\u001b[1m1563/1563\u001b[0m \u001b[32m━━━━━━━━━━━━━━━━━━━━\u001b[0m\u001b[37m\u001b[0m \u001b[1m165s\u001b[0m 106ms/step - accuracy: 0.6196 - loss: 1.0813\n",
      "Epoch 3/15\n",
      "\u001b[1m1563/1563\u001b[0m \u001b[32m━━━━━━━━━━━━━━━━━━━━\u001b[0m\u001b[37m\u001b[0m \u001b[1m157s\u001b[0m 100ms/step - accuracy: 0.7023 - loss: 0.8675\n",
      "Epoch 4/15\n",
      "\u001b[1m1563/1563\u001b[0m \u001b[32m━━━━━━━━━━━━━━━━━━━━\u001b[0m\u001b[37m\u001b[0m \u001b[1m159s\u001b[0m 102ms/step - accuracy: 0.7486 - loss: 0.7339\n",
      "Epoch 5/15\n",
      "\u001b[1m1563/1563\u001b[0m \u001b[32m━━━━━━━━━━━━━━━━━━━━\u001b[0m\u001b[37m\u001b[0m \u001b[1m171s\u001b[0m 110ms/step - accuracy: 0.7795 - loss: 0.6473\n",
      "Epoch 6/15\n",
      "\u001b[1m1563/1563\u001b[0m \u001b[32m━━━━━━━━━━━━━━━━━━━━\u001b[0m\u001b[37m\u001b[0m \u001b[1m188s\u001b[0m 120ms/step - accuracy: 0.8116 - loss: 0.5505\n",
      "Epoch 7/15\n",
      "\u001b[1m1563/1563\u001b[0m \u001b[32m━━━━━━━━━━━━━━━━━━━━\u001b[0m\u001b[37m\u001b[0m \u001b[1m171s\u001b[0m 110ms/step - accuracy: 0.8355 - loss: 0.4816\n",
      "Epoch 8/15\n",
      "\u001b[1m1563/1563\u001b[0m \u001b[32m━━━━━━━━━━━━━━━━━━━━\u001b[0m\u001b[37m\u001b[0m \u001b[1m175s\u001b[0m 112ms/step - accuracy: 0.8621 - loss: 0.4017\n",
      "Epoch 9/15\n",
      "\u001b[1m1563/1563\u001b[0m \u001b[32m━━━━━━━━━━━━━━━━━━━━\u001b[0m\u001b[37m\u001b[0m \u001b[1m175s\u001b[0m 112ms/step - accuracy: 0.8801 - loss: 0.3518\n",
      "Epoch 10/15\n",
      "\u001b[1m1563/1563\u001b[0m \u001b[32m━━━━━━━━━━━━━━━━━━━━\u001b[0m\u001b[37m\u001b[0m \u001b[1m186s\u001b[0m 119ms/step - accuracy: 0.8932 - loss: 0.3091\n",
      "Epoch 11/15\n",
      "\u001b[1m1563/1563\u001b[0m \u001b[32m━━━━━━━━━━━━━━━━━━━━\u001b[0m\u001b[37m\u001b[0m \u001b[1m174s\u001b[0m 111ms/step - accuracy: 0.9064 - loss: 0.2692\n",
      "Epoch 12/15\n",
      "\u001b[1m1563/1563\u001b[0m \u001b[32m━━━━━━━━━━━━━━━━━━━━\u001b[0m\u001b[37m\u001b[0m \u001b[1m182s\u001b[0m 116ms/step - accuracy: 0.9162 - loss: 0.2502\n",
      "Epoch 13/15\n",
      "\u001b[1m1563/1563\u001b[0m \u001b[32m━━━━━━━━━━━━━━━━━━━━\u001b[0m\u001b[37m\u001b[0m \u001b[1m180s\u001b[0m 115ms/step - accuracy: 0.9203 - loss: 0.2316\n",
      "Epoch 14/15\n",
      "\u001b[1m1563/1563\u001b[0m \u001b[32m━━━━━━━━━━━━━━━━━━━━\u001b[0m\u001b[37m\u001b[0m \u001b[1m181s\u001b[0m 116ms/step - accuracy: 0.9326 - loss: 0.1965\n",
      "Epoch 15/15\n",
      "\u001b[1m1563/1563\u001b[0m \u001b[32m━━━━━━━━━━━━━━━━━━━━\u001b[0m\u001b[37m\u001b[0m \u001b[1m178s\u001b[0m 114ms/step - accuracy: 0.9389 - loss: 0.1827\n"
     ]
    },
    {
     "data": {
      "text/plain": [
       "<keras.src.callbacks.history.History at 0x2ac3920c250>"
      ]
     },
     "execution_count": 27,
     "metadata": {},
     "output_type": "execute_result"
    }
   ],
   "source": [
    "model.fit(x_train,y_cat_train,epochs=15)\n"
   ]
  },
  {
   "cell_type": "code",
   "execution_count": 30,
   "id": "72d386f8",
   "metadata": {
    "scrolled": true
   },
   "outputs": [
    {
     "name": "stdout",
     "output_type": "stream",
     "text": [
      "\u001b[1m313/313\u001b[0m \u001b[32m━━━━━━━━━━━━━━━━━━━━\u001b[0m\u001b[37m\u001b[0m \u001b[1m9s\u001b[0m 27ms/step - accuracy: 0.7698 - loss: 1.0184\n"
     ]
    },
    {
     "data": {
      "text/plain": [
       "[1.0319690704345703, 0.76419997215271]"
      ]
     },
     "execution_count": 30,
     "metadata": {},
     "output_type": "execute_result"
    }
   ],
   "source": [
    "model.evaluate(x_test,y_cat_test)"
   ]
  },
  {
   "cell_type": "code",
   "execution_count": 37,
   "id": "72233c80",
   "metadata": {},
   "outputs": [],
   "source": [
    "from sklearn.metrics import classification_report\n",
    "import numpy as np\n"
   ]
  },
  {
   "cell_type": "code",
   "execution_count": 32,
   "id": "2ccb6a71",
   "metadata": {},
   "outputs": [
    {
     "name": "stdout",
     "output_type": "stream",
     "text": [
      "\u001b[1m313/313\u001b[0m \u001b[32m━━━━━━━━━━━━━━━━━━━━\u001b[0m\u001b[37m\u001b[0m \u001b[1m7s\u001b[0m 20ms/step\n"
     ]
    }
   ],
   "source": [
    "prediction=model.predict(x_test)"
   ]
  },
  {
   "cell_type": "code",
   "execution_count": 33,
   "id": "2db79c34",
   "metadata": {},
   "outputs": [
    {
     "data": {
      "text/plain": [
       "array([[1.8217245e-08, 2.5792815e-07, 1.0762677e-06, ..., 1.6985919e-07,\n",
       "        5.2221683e-08, 3.4801246e-06],\n",
       "       [5.8846581e-09, 6.1996798e-05, 4.0354649e-15, ..., 4.7573047e-20,\n",
       "        9.9993801e-01, 1.9481632e-10],\n",
       "       [1.8283220e-02, 1.4042254e-05, 3.0630999e-05, ..., 3.0356141e-08,\n",
       "        9.8137808e-01, 2.7305497e-05],\n",
       "       ...,\n",
       "       [2.1555067e-20, 1.9455391e-22, 1.7677136e-15, ..., 1.1861777e-12,\n",
       "        7.5107464e-22, 2.4475269e-20],\n",
       "       [1.2249433e-06, 9.9999475e-01, 7.3059927e-09, ..., 1.9630008e-13,\n",
       "        3.8861590e-06, 5.1694641e-08],\n",
       "       [2.8472470e-12, 1.2430339e-14, 2.2678183e-10, ..., 9.9920541e-01,\n",
       "        2.5122347e-13, 2.9005850e-13]], dtype=float32)"
      ]
     },
     "execution_count": 33,
     "metadata": {},
     "output_type": "execute_result"
    }
   ],
   "source": [
    "prediction"
   ]
  },
  {
   "cell_type": "code",
   "execution_count": 38,
   "id": "f9b0ff4d",
   "metadata": {},
   "outputs": [
    {
     "data": {
      "text/plain": [
       "array([4.9040691e-06, 6.6362138e-09, 1.1750172e-10, 1.6286767e-09,\n",
       "       1.2790075e-08, 5.8298596e-12, 4.1114711e-07, 5.4743202e-15,\n",
       "       9.9999475e-01, 5.0242976e-10], dtype=float32)"
      ]
     },
     "execution_count": 38,
     "metadata": {},
     "output_type": "execute_result"
    }
   ],
   "source": [
    "prediction[15]"
   ]
  },
  {
   "cell_type": "code",
   "execution_count": 39,
   "id": "c639b6ec",
   "metadata": {},
   "outputs": [],
   "source": [
    "predicted_classes=np.argmax(prediction,axis=1)"
   ]
  },
  {
   "cell_type": "code",
   "execution_count": 40,
   "id": "d6cb559c",
   "metadata": {},
   "outputs": [
    {
     "name": "stdout",
     "output_type": "stream",
     "text": [
      "              precision    recall  f1-score   support\n",
      "\n",
      "           0       0.83      0.76      0.80      1000\n",
      "           1       0.91      0.88      0.89      1000\n",
      "           2       0.63      0.70      0.67      1000\n",
      "           3       0.63      0.54      0.58      1000\n",
      "           4       0.73      0.69      0.71      1000\n",
      "           5       0.69      0.66      0.67      1000\n",
      "           6       0.71      0.89      0.79      1000\n",
      "           7       0.84      0.76      0.80      1000\n",
      "           8       0.85      0.90      0.87      1000\n",
      "           9       0.85      0.86      0.85      1000\n",
      "\n",
      "    accuracy                           0.76     10000\n",
      "   macro avg       0.77      0.76      0.76     10000\n",
      "weighted avg       0.77      0.76      0.76     10000\n",
      "\n"
     ]
    }
   ],
   "source": [
    "predicted_classes\n",
    "report=classification_report(y_test, predicted_classes)\n",
    "print(report)"
   ]
  },
  {
   "cell_type": "code",
   "execution_count": null,
   "id": "0d1f48b3",
   "metadata": {},
   "outputs": [],
   "source": []
  }
 ],
 "metadata": {
  "kernelspec": {
   "display_name": "Python 3 (ipykernel)",
   "language": "python",
   "name": "python3"
  },
  "language_info": {
   "codemirror_mode": {
    "name": "ipython",
    "version": 3
   },
   "file_extension": ".py",
   "mimetype": "text/x-python",
   "name": "python",
   "nbconvert_exporter": "python",
   "pygments_lexer": "ipython3",
   "version": "3.11.4"
  }
 },
 "nbformat": 4,
 "nbformat_minor": 5
}
